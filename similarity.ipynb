{
 "cells": [
  {
   "cell_type": "code",
   "execution_count": 28,
   "metadata": {},
   "outputs": [],
   "source": [
    "import pandas as pd \n",
    "import numpy as np"
   ]
  },
  {
   "cell_type": "code",
   "execution_count": 29,
   "metadata": {},
   "outputs": [],
   "source": [
    "from PyPDF2 import PdfReader"
   ]
  },
  {
   "cell_type": "code",
   "execution_count": 84,
   "metadata": {},
   "outputs": [],
   "source": [
    "resume_file=\"Resume.pdf\"\n",
    "Req=\"data scientist\""
   ]
  },
  {
   "cell_type": "code",
   "execution_count": 85,
   "metadata": {},
   "outputs": [
    {
     "name": "stdout",
     "output_type": "stream",
     "text": [
      "SAKSHAM SHARMA\n",
      "♂¶obile-alt+916264489321 /envel⌢pesakshamss840@gmail.com /githubSaksham0207 /linkedinsaksham–sharma\n",
      "Education\n",
      "Indian Institute of Technology BHU, Varanasi July 2019 - June 2023\n",
      "B.Tech. in Metallurgical Engineering CGPA - 8.34\n",
      "Adarsh Public School May 2019\n",
      "M.P. State Board (XII) Percentage - 85.4\n",
      "Holy Family Convent Sr. Sec. School May 2017\n",
      "CBSE (X) CGPA - 10\n",
      "Work Experience\n",
      "Rgen.ai | ML Engineer Intern 13 March 2022 - Present\n",
      "•Built an end-to-end pipeline which generates a talking head video of a user saying a provided input text.\n",
      "•Researched various Text-to-Speech, Voice-Conversion, Talking-Head-Generation models.\n",
      "•Fine-tuned different GANandDiffusion based models to adapt and work with Hindi language .\n",
      "•Building a robust One-Shot-Model Pipeline which learns from just one sample input for new users.\n",
      "•Exposure : PyTorch, TensorFlow, GANs, Diffusion Modelling, One-Shot-Models.\n",
      "ExaWizards | ML Engineer Intern 30 May 2022 - 31 Aug 2022\n",
      "•Worked on optimizing a children surveillance system at day care centers to detect kids in a frame and then\n",
      "further classify them based on their expressions.\n",
      "•Experimented with various object detection and image classification models to find models with good\n",
      "inference speeds and accuracy .\n",
      "•Converted the models trained on PyTorch toTensorRT for edge device inference on Jetson Nano .\n",
      "•Finally implemented a Facial Recognition Algorithm to find out kids in need of attention.\n",
      "•Achieved an overall inference speed increase of two times keeping the inference accuracy almost\n",
      "constant as compared to the already existing pipeline.\n",
      "•Exposure : PyTorch, ONNX, TensorRT, Edge Computing.\n",
      "Projects\n",
      "Exercise Instructor\n",
      "•Created a Pose estimation model fordetecting body points of a person while exercising.\n",
      "•Implemented differnet models like PoseNet, AlphaPose, MediaPipe BlazePose onTensorFlow .\n",
      "•Selected PoseNet as pose estimation model and collected data for different exercises using it.\n",
      "•Created a Pose classification model using the collected data to detect whether a person is doing the\n",
      "exercises correctly and suggest corrections accordingly.\n",
      "Hybrid Movie Recommendation systems\n",
      "•Started with Knowledge based recommendations that recommends movies based on movie genre.\n",
      "•Created two Content based recommendation systems , the first one based on information about\n",
      "movie’s cast and crew and the other one based on movie’s plot.\n",
      "•CreatedUser and Item based Collaborative Filtering recommendation systems .\n",
      "•Stacked content based recommendation and collaborative filtering models to build a Hybrid movie\n",
      "recommendation system .\n",
      "Skills\n",
      "•Languages : Python, C, C++, SQL\n",
      "•Tools/Technologies : Git/GitHub, PyTorch, TensorFlow, Django, Tableau, ONNX, TensorRT\n",
      "•Areas of Interest : Data Analytics, Data Science, Machine Learning, Deep learning\n",
      "Position of Responsibility\n",
      "Publicity Senior Advisor at FMC Weekend ’23(Annual Digital Arts Fest)\n",
      "•Managed a team of 30 people to propagate information regarding the fest to audience across India.\n",
      "•Responsible for designing a roadmap for the team and ensuring smooth flow of operations.\n",
      "•Achieved a total footfall of around 500 participants (including online and offline participations).\n"
     ]
    }
   ],
   "source": [
    "reader = PdfReader(resume_file)\n",
    "page = reader.pages[0]\n",
    "transcript  = page.extract_text()\n",
    "print(transcript)"
   ]
  },
  {
   "cell_type": "code",
   "execution_count": 86,
   "metadata": {},
   "outputs": [],
   "source": [
    "job_descr = \"\"\"At [Company X], we rely on insightful data to power our systems and solutions. We're seeking an experienced data scientist to deliver insights on a daily basis. The ideal candidate will have mathematical and statistical expertise, along with natural curiosity and a creative mind. While mining, interpreting, and cleaning our data, this person will be relied on to ask questions, connect the dots, and uncover hidden opportunities for realizing the data’s full potential. As part of a team of specialists, the data scientist will “slice and dice” data using various methods and create new visions for the future.\n",
    "\n",
    "Objectives of this role\n",
    "Collaborate with product design and engineering teams to develop an understanding of needs\n",
    "Research and devise innovative statistical models for data analysis\n",
    "Communicate findings to all stakeholders\n",
    "Enable smarter business processes by using analytics for meaningful insights\n",
    "Keep current with technical and industry developments\n",
    "Responsibilities\n",
    "Serve as lead data strategist to identify and integrate new datasets that can be leveraged through our product capabilities, and work closely with the engineering team in the development of data products\n",
    "Execute analytical experiments to help solve problems across various domains and industries\n",
    "Identify relevant data sources and sets to mine for client business needs, and collect large structured and unstructured datasets and variables\n",
    "Devise and utilize algorithms and models to mine big-data stores; perform data and error analysis to improve models; clean and validate data for uniformity and accuracy\n",
    "Analyze data for trends and patterns, and interpret data with clear objectives in mind\n",
    "Implement analytical models in production by collaborating with software developers and machine-learning engineers\n",
    "Required skills and qualifications\n",
    "Seven or more years of experience in data science\n",
    "Proficiency with data mining, mathematics, and statistical analysis\n",
    "Advanced experience in pattern recognition and predictive modeling\n",
    "Experience with Excel, PowerPoint, Tableau, SQL, and programming languages (ex: Java/Python, SAS)\n",
    "Ability to work effectively in a dynamic, research-oriented group that has several concurrent projects\n",
    "Preferred skills and qualifications\n",
    "Bachelor's degree (or equivalent) in statistics, applied mathematics, or related discipline\n",
    "Two or more years of project management experience\n",
    "Professional certification\"\"\""
   ]
  },
  {
   "cell_type": "code",
   "execution_count": 87,
   "metadata": {},
   "outputs": [],
   "source": [
    "description_cleaned=job_descr.replace(\"\\n\",\"\")\n",
    "resume_cleaned=transcript.replace(\"\\n\",\"\")"
   ]
  },
  {
   "cell_type": "code",
   "execution_count": 88,
   "metadata": {},
   "outputs": [],
   "source": [
    "Match_Test=[resume_cleaned,description_cleaned]"
   ]
  },
  {
   "cell_type": "code",
   "execution_count": 89,
   "metadata": {},
   "outputs": [],
   "source": [
    "from sklearn.feature_extraction.text import CountVectorizer\n",
    "cv=CountVectorizer()\n",
    "count_matrix=cv.fit_transform(Match_Test)"
   ]
  },
  {
   "cell_type": "code",
   "execution_count": 90,
   "metadata": {},
   "outputs": [
    {
     "name": "stdout",
     "output_type": "stream",
     "text": [
      "Similarity is : [[1.         0.56706409]\n",
      " [0.56706409 1.        ]]\n"
     ]
    }
   ],
   "source": [
    "from sklearn.metrics.pairwise import cosine_similarity\n",
    "print('Similarity is :',cosine_similarity(count_matrix))"
   ]
  },
  {
   "cell_type": "code",
   "execution_count": 91,
   "metadata": {},
   "outputs": [
    {
     "name": "stdout",
     "output_type": "stream",
     "text": [
      "Match Percentage is :56.71% to Requirement\n"
     ]
    }
   ],
   "source": [
    "MatchPercentage=cosine_similarity(count_matrix)[0][1]*100\n",
    "MatchPercentage=round(MatchPercentage,2)\n",
    "print('Match Percentage is :'+ str(MatchPercentage)+'% to Requirement')"
   ]
  },
  {
   "cell_type": "code",
   "execution_count": 92,
   "metadata": {},
   "outputs": [
    {
     "name": "stdout",
     "output_type": "stream",
     "text": [
      "[[1. 0.]\n",
      " [0. 1.]]\n"
     ]
    }
   ],
   "source": [
    "from sklearn.feature_extraction.text import TfidfVectorizer\n",
    "from sklearn.metrics.pairwise import cosine_similarity\n",
    "\n",
    "\n",
    "# Create TF-IDF vectorizer\n",
    "vectorizer = TfidfVectorizer(ngram_range=(3,3))\n",
    "\n",
    "# Fit and transform the documents\n",
    "tfidf_matrix = vectorizer.fit_transform([resume_cleaned, description_cleaned])\n",
    "\n",
    "# Calculate cosine similarity\n",
    "cosine_sim = cosine_similarity(tfidf_matrix, tfidf_matrix)\n",
    "\n",
    "# Print similarity matrix\n",
    "print(cosine_sim)\n"
   ]
  },
  {
   "cell_type": "code",
   "execution_count": 58,
   "metadata": {},
   "outputs": [
    {
     "name": "stdout",
     "output_type": "stream",
     "text": [
      "Similarity Score (BERT): 0.29549163579940796\n"
     ]
    }
   ],
   "source": [
    "from sentence_transformers import SentenceTransformer\n",
    "\n",
    "def text_similarity_bert(text1, text2):\n",
    "    model = SentenceTransformer('paraphrase-MiniLM-L6-v2')\n",
    "    embeddings = model.encode([text1, text2])\n",
    "    similarity_score = cosine_similarity([embeddings[0]], [embeddings[1]])\n",
    "    return similarity_score[0, 0]\n",
    "\n",
    "similarity = text_similarity_bert(resume_cleaned, description_cleaned)\n",
    "print(f\"Similarity Score (BERT): {similarity}\")\n"
   ]
  },
  {
   "cell_type": "code",
   "execution_count": 63,
   "metadata": {},
   "outputs": [
    {
     "name": "stdout",
     "output_type": "stream",
     "text": [
      "Similarity Score (BERT): 0.29549163579940796\n"
     ]
    }
   ],
   "source": [
    "similarity = text_similarity_bert(resume_cleaned, description_cleaned)\n",
    "print(f\"Similarity Score (BERT): {similarity}\")"
   ]
  },
  {
   "cell_type": "code",
   "execution_count": 66,
   "metadata": {},
   "outputs": [
    {
     "name": "stdout",
     "output_type": "stream",
     "text": [
      "Similarity Score (FAISS): 1.0\n"
     ]
    }
   ],
   "source": [
    "import faiss\n",
    "import numpy as np\n",
    "from sklearn.feature_extraction.text import TfidfVectorizer\n",
    "from sklearn.preprocessing import normalize\n",
    "\n",
    "def text_similarity_faiss(text1, text2):\n",
    "    # Step 1: Vectorize the texts using TF-IDF\n",
    "    vectorizer = TfidfVectorizer()\n",
    "    vectors = vectorizer.fit_transform([text1, text2]).toarray()\n",
    "\n",
    "    # Step 2: Normalize the vectors\n",
    "    vectors = normalize(vectors, norm='l2')\n",
    "\n",
    "    # Step 3: Initialize FAISS index\n",
    "    index = faiss.IndexFlatL2(vectors.shape[1])\n",
    "    index.add(vectors.astype(np.float32))\n",
    "\n",
    "    # Step 4: Encode and normalize the query vector\n",
    "    query_vector = vectorizer.transform([text1]).toarray()\n",
    "    query_vector = normalize(query_vector, norm='l2').astype(np.float32)\n",
    "\n",
    "    # Step 5: Perform similarity search\n",
    "    _, similarity_indices = index.search(query_vector, k=1)\n",
    "\n",
    "    # Step 6: Get similarity score\n",
    "    similarity_score = 1.0 / (1.0 + similarity_indices[0, 0])\n",
    "\n",
    "    return similarity_score\n",
    "\n",
    "# Example usage\n",
    "text1 = resume_cleaned\n",
    "text2 = \"123\"\n",
    "\n",
    "similarity = text_similarity_faiss(text1, text2)\n",
    "print(f\"Similarity Score (FAISS): {similarity}\")\n"
   ]
  },
  {
   "cell_type": "code",
   "execution_count": 67,
   "metadata": {},
   "outputs": [
    {
     "data": {
      "application/vnd.jupyter.widget-view+json": {
       "model_id": "8dea978c335e44629baf39b368d89f82",
       "version_major": 2,
       "version_minor": 0
      },
      "text/plain": [
       "Downloading .gitattributes:   0%|          | 0.00/1.48k [00:00<?, ?B/s]"
      ]
     },
     "metadata": {},
     "output_type": "display_data"
    },
    {
     "data": {
      "application/vnd.jupyter.widget-view+json": {
       "model_id": "3a49aa34dd9a42b4ac9f31e2130f011f",
       "version_major": 2,
       "version_minor": 0
      },
      "text/plain": [
       "Downloading 1_Pooling/config.json:   0%|          | 0.00/270 [00:00<?, ?B/s]"
      ]
     },
     "metadata": {},
     "output_type": "display_data"
    },
    {
     "data": {
      "application/vnd.jupyter.widget-view+json": {
       "model_id": "019b931c1dfd41da87c65a45d2739119",
       "version_major": 2,
       "version_minor": 0
      },
      "text/plain": [
       "Downloading 2_Dense/config.json:   0%|          | 0.00/116 [00:00<?, ?B/s]"
      ]
     },
     "metadata": {},
     "output_type": "display_data"
    },
    {
     "data": {
      "application/vnd.jupyter.widget-view+json": {
       "model_id": "33a17d5b9d1741c28431e746ef9cf008",
       "version_major": 2,
       "version_minor": 0
      },
      "text/plain": [
       "Downloading pytorch_model.bin:   0%|          | 0.00/3.15M [00:00<?, ?B/s]"
      ]
     },
     "metadata": {},
     "output_type": "display_data"
    },
    {
     "data": {
      "application/vnd.jupyter.widget-view+json": {
       "model_id": "33f064c811514589b24350332f9d888f",
       "version_major": 2,
       "version_minor": 0
      },
      "text/plain": [
       "Downloading README.md:   0%|          | 0.00/66.3k [00:00<?, ?B/s]"
      ]
     },
     "metadata": {},
     "output_type": "display_data"
    },
    {
     "data": {
      "application/vnd.jupyter.widget-view+json": {
       "model_id": "49bc3ae06d804629a1b0c1c448bab827",
       "version_major": 2,
       "version_minor": 0
      },
      "text/plain": [
       "Downloading config.json:   0%|          | 0.00/1.52k [00:00<?, ?B/s]"
      ]
     },
     "metadata": {},
     "output_type": "display_data"
    },
    {
     "data": {
      "application/vnd.jupyter.widget-view+json": {
       "model_id": "327e943620994112bec7db67dd6451cd",
       "version_major": 2,
       "version_minor": 0
      },
      "text/plain": [
       "Downloading (…)ce_transformers.json:   0%|          | 0.00/122 [00:00<?, ?B/s]"
      ]
     },
     "metadata": {},
     "output_type": "display_data"
    },
    {
     "data": {
      "application/vnd.jupyter.widget-view+json": {
       "model_id": "6aaeb7d128e847069929962c718d7b51",
       "version_major": 2,
       "version_minor": 0
      },
      "text/plain": [
       "Downloading pytorch_model.bin:   0%|          | 0.00/4.96G [00:00<?, ?B/s]"
      ]
     },
     "metadata": {},
     "output_type": "display_data"
    },
    {
     "data": {
      "application/vnd.jupyter.widget-view+json": {
       "model_id": "756869fb18cb4f7eacb41fc7e921a923",
       "version_major": 2,
       "version_minor": 0
      },
      "text/plain": [
       "Downloading (…)nce_bert_config.json:   0%|          | 0.00/53.0 [00:00<?, ?B/s]"
      ]
     },
     "metadata": {},
     "output_type": "display_data"
    },
    {
     "data": {
      "application/vnd.jupyter.widget-view+json": {
       "model_id": "2e6437a768ed4cd3a2f0746b41497c06",
       "version_major": 2,
       "version_minor": 0
      },
      "text/plain": [
       "Downloading (…)cial_tokens_map.json:   0%|          | 0.00/2.20k [00:00<?, ?B/s]"
      ]
     },
     "metadata": {},
     "output_type": "display_data"
    },
    {
     "data": {
      "application/vnd.jupyter.widget-view+json": {
       "model_id": "e0d6ae67f2e54ab991cd723aaf47990b",
       "version_major": 2,
       "version_minor": 0
      },
      "text/plain": [
       "Downloading spiece.model:   0%|          | 0.00/792k [00:00<?, ?B/s]"
      ]
     },
     "metadata": {},
     "output_type": "display_data"
    },
    {
     "data": {
      "application/vnd.jupyter.widget-view+json": {
       "model_id": "9f1ce69d89cf44a2813a0f4e1a4b4ac8",
       "version_major": 2,
       "version_minor": 0
      },
      "text/plain": [
       "Downloading tokenizer.json:   0%|          | 0.00/2.42M [00:00<?, ?B/s]"
      ]
     },
     "metadata": {},
     "output_type": "display_data"
    },
    {
     "data": {
      "application/vnd.jupyter.widget-view+json": {
       "model_id": "fe4ac961e65d40bc937b954b62a5cadf",
       "version_major": 2,
       "version_minor": 0
      },
      "text/plain": [
       "Downloading tokenizer_config.json:   0%|          | 0.00/2.40k [00:00<?, ?B/s]"
      ]
     },
     "metadata": {},
     "output_type": "display_data"
    },
    {
     "data": {
      "application/vnd.jupyter.widget-view+json": {
       "model_id": "e4297ed5d97a492d883f9550e59ef239",
       "version_major": 2,
       "version_minor": 0
      },
      "text/plain": [
       "Downloading modules.json:   0%|          | 0.00/461 [00:00<?, ?B/s]"
      ]
     },
     "metadata": {},
     "output_type": "display_data"
    },
    {
     "name": "stdout",
     "output_type": "stream",
     "text": [
      "load INSTRUCTOR_Transformer\n",
      "max_seq_length  512\n",
      "[[ 1.07386038e-02  2.03883871e-02 -3.30812327e-04 -2.47166716e-02\n",
      "  -4.76301499e-02 -4.68175821e-02 -9.05007720e-02  1.91017296e-02\n",
      "  -1.89686045e-02 -2.23026183e-02  7.18012974e-02  7.78870359e-02\n",
      "  -2.37136371e-02 -3.60546857e-02 -1.62322316e-02  1.26424702e-02\n",
      "   8.33643600e-03 -5.39390072e-02 -2.27154605e-02  3.68872210e-02\n",
      "  -4.32880037e-02  6.04332006e-03 -4.29678969e-02  4.55324212e-03\n",
      "  -6.03506789e-02 -4.09656167e-02 -8.03753361e-03  3.64149213e-02\n",
      "  -4.54009809e-02  8.48520827e-03  7.60250315e-02  5.27356490e-02\n",
      "   2.72821803e-02 -4.88926210e-02  6.69014826e-02 -1.08451815e-02\n",
      "   3.88090424e-02 -2.16719061e-02  2.53972430e-02 -5.66702522e-02\n",
      "  -4.19937074e-02  6.63485527e-02  2.21916679e-02 -1.12361815e-02\n",
      "   1.84475929e-02 -3.84796448e-02  1.75258815e-02 -1.23462752e-02\n",
      "   2.81102080e-02 -3.72440321e-03 -1.35253239e-02 -2.30728667e-02\n",
      "  -1.20010758e-02 -1.69234145e-02 -7.42125651e-03 -2.43936665e-02\n",
      "   1.54567724e-02 -9.44161136e-03  7.06057483e-03 -2.72084456e-02\n",
      "   3.56197730e-02  7.68095329e-02  6.28040545e-03  2.09138123e-03\n",
      "   2.66621262e-02  3.31678707e-03  9.86232385e-02 -9.58707184e-03\n",
      "   1.43484622e-02  2.20163502e-02 -1.79550201e-02  3.52664664e-02\n",
      "  -2.70702019e-02 -7.16587231e-02 -1.15425084e-02  8.45384449e-02\n",
      "   2.45099645e-02  2.20299773e-02 -4.79533290e-03 -1.25728277e-02\n",
      "  -3.54118086e-02 -1.06494874e-02 -2.99813785e-02  2.48700660e-02\n",
      "   1.96104404e-03 -4.10196697e-03 -1.36147458e-02  3.58048603e-02\n",
      "   2.56064758e-02  8.95518735e-02 -2.03263536e-02  1.18814046e-02\n",
      "  -3.12768444e-02  1.20548923e-02  4.29043472e-02  2.74342187e-02\n",
      "   6.16413951e-02  2.19267141e-03 -4.93070018e-03 -3.58406864e-02\n",
      "   4.35732957e-03  9.28861846e-05 -2.34649107e-02 -4.84094061e-02\n",
      "  -1.64442826e-02  7.26018380e-03  3.81532945e-02  4.34932746e-02\n",
      "   3.81413251e-02  1.53631344e-02  7.77664259e-02  5.09047993e-02\n",
      "  -1.41232610e-02 -3.36678140e-02  2.89369933e-02 -4.28000838e-02\n",
      "  -1.22105051e-02  1.30138574e-02 -2.84026209e-02  3.46861593e-02\n",
      "  -1.90900136e-02  6.00857753e-03 -2.36922223e-02  4.91227508e-02\n",
      "   4.90325852e-04 -1.24120209e-02  1.32453823e-02 -3.46502624e-02\n",
      "   7.62090506e-03 -2.26248503e-02  5.74450716e-02 -4.85527664e-02\n",
      "  -1.65589470e-02 -2.20209863e-02  7.52502009e-02 -3.53551768e-02\n",
      "   1.50193172e-02  9.47104767e-03  3.42640132e-02 -1.13694351e-02\n",
      "   1.10847754e-02 -1.36192497e-02 -1.53356856e-02 -5.97013645e-02\n",
      "  -1.75056253e-02 -3.42988339e-03 -4.36458969e-03  3.44850011e-02\n",
      "  -3.62701267e-02  3.89150865e-02 -7.22218363e-04  4.99856025e-02\n",
      "   5.29469224e-03 -1.31716542e-02 -1.71449240e-02 -9.52942763e-03\n",
      "  -2.83439737e-02  4.04457711e-02  2.97171785e-03 -2.55956184e-02\n",
      "   3.58481370e-02 -1.77271683e-02 -5.60854314e-05  5.97360507e-02\n",
      "  -1.06784366e-01  1.73036829e-02 -4.68609445e-02 -4.35847603e-02\n",
      "   1.77907273e-02  3.77807468e-02  6.86792359e-02 -3.74949686e-02\n",
      "  -1.82489678e-02  2.90126503e-02  1.91755313e-02 -3.98130566e-02\n",
      "  -1.24829607e-02  2.50555351e-02  4.67595346e-02  4.03047279e-02\n",
      "   9.98896919e-03  6.48720935e-02  1.83789227e-02  7.13246390e-02\n",
      "  -2.82302890e-02  2.47336067e-02  2.67816652e-02 -8.30109492e-02\n",
      "   7.26250047e-03  1.13906693e-02  1.04375288e-03 -8.77354965e-02\n",
      "   3.64257433e-02  2.89859790e-02  1.17985613e-03 -4.30453895e-03\n",
      "   3.46916392e-02  7.16711283e-02 -8.03833082e-03  1.79173183e-02\n",
      "  -1.11733321e-02  1.67938806e-02 -1.70368527e-03 -3.39703844e-03\n",
      "  -3.09823938e-02  1.45876249e-02  2.88094766e-02  6.26390278e-02\n",
      "   2.61594579e-02  6.89415038e-02 -4.71520647e-02  2.65042391e-02\n",
      "  -5.05994260e-03  1.03126736e-02  1.15325907e-02  1.73089206e-02\n",
      "   4.78190370e-02 -3.78929861e-02  9.84369777e-03  5.01879491e-02\n",
      "  -9.39684268e-03 -3.14757857e-03  4.88986168e-03 -2.16003824e-02\n",
      "   1.71724800e-02 -3.40923369e-02 -5.86342067e-02 -4.82108328e-04\n",
      "   2.94331033e-02 -1.87798236e-02  1.35478377e-02 -1.44987470e-02\n",
      "   6.77288473e-02  2.48385710e-03 -3.95737551e-02 -5.04795723e-02\n",
      "   3.95793281e-03 -4.65066060e-02 -5.40725281e-03 -2.60437708e-02\n",
      "   2.45701727e-02 -5.36058918e-02 -4.33546603e-02 -3.98312230e-03\n",
      "   5.33049628e-02  3.20524462e-02 -2.31938846e-02  3.92150730e-02\n",
      "   3.08484547e-02 -1.66723188e-02  9.04562511e-03 -1.41129075e-02\n",
      "   5.32802269e-02  9.66820866e-03 -2.20837211e-03  1.90555006e-02\n",
      "  -2.18707882e-02 -3.87224667e-02 -1.08372383e-02  4.53278124e-02\n",
      "   6.83878409e-03 -3.29209641e-02 -3.49995913e-03 -3.12380735e-02\n",
      "   1.03092687e-02 -1.35843148e-02 -9.84256063e-03 -3.74226943e-02\n",
      "   4.26537022e-02  7.34592136e-03 -8.48322958e-02  8.52403194e-02\n",
      "   4.31625806e-02 -1.83150005e-02 -7.76530802e-03  7.36725936e-03\n",
      "   3.85772437e-02 -1.31928250e-02 -4.09988081e-03  1.36733446e-02\n",
      "  -3.05455029e-02 -6.84877336e-02 -1.28136333e-02 -5.05101159e-02\n",
      "  -5.68034202e-02 -1.10425428e-02 -7.60257058e-03 -2.29832772e-02\n",
      "  -1.38181336e-02  7.59438612e-04  5.42655773e-02  2.83909831e-02\n",
      "  -2.71192528e-02  3.06021739e-02 -5.15826158e-02  1.79488733e-02\n",
      "   5.54484595e-03  4.21259217e-02  4.56835032e-02 -1.54480152e-02\n",
      "  -2.27322355e-02  1.70305208e-03 -1.50242820e-02  2.16430854e-02\n",
      "  -4.60619181e-02 -1.15046343e-02 -6.40146900e-04 -2.58005317e-02\n",
      "  -2.67433356e-02 -4.22346406e-02  2.35165432e-02  5.74626178e-02\n",
      "   3.64336818e-02 -3.17830779e-02  9.89784836e-04 -1.47871133e-02\n",
      "   3.07558086e-02  1.25886519e-02  4.18411531e-02  8.13132711e-03\n",
      "  -7.56600965e-03  1.38632879e-02  2.79687401e-02 -9.94313695e-03\n",
      "   2.20218766e-02  1.36837522e-02  4.29652855e-02  6.23991154e-02\n",
      "   3.06116324e-02 -3.71644534e-02  5.11207357e-02  4.71871393e-03\n",
      "  -2.26201192e-02  7.08399015e-03  7.06122369e-02  4.57469784e-02\n",
      "  -6.19176626e-02 -1.36705013e-02  4.47953306e-02 -3.03875804e-02\n",
      "  -4.35640775e-02 -2.58038398e-02 -2.62076277e-02  1.47875482e-02\n",
      "  -3.09020132e-02 -3.96685079e-02  2.11869050e-02  4.73536886e-02\n",
      "  -3.59307192e-02 -5.08030429e-02 -4.73031737e-02 -6.72974577e-03\n",
      "  -3.60290594e-02  1.45429606e-02  4.11183350e-02  5.67813180e-02\n",
      "   4.89354096e-02 -1.46997990e-02 -2.38371305e-02  1.49723599e-02\n",
      "   1.75910722e-02  1.95717160e-02  1.06209405e-02 -2.72254348e-02\n",
      "   1.28317857e-02  2.41271444e-02 -4.50024828e-02 -1.26004547e-01\n",
      "  -6.23773923e-03  8.79175961e-02  4.33323570e-02  4.74358629e-03\n",
      "   7.58506637e-03 -6.30973093e-03 -1.02409068e-02  2.20197830e-02\n",
      "  -2.87291277e-02 -4.06520814e-02 -1.79229397e-02 -4.98869782e-03\n",
      "  -3.68985208e-03 -2.30876487e-02 -1.13051143e-02  1.91939883e-02\n",
      "   2.00343020e-02  2.53959950e-02  2.09808294e-02 -5.08935489e-02\n",
      "  -5.67576615e-03  3.80369797e-02  4.86270105e-03  1.13130629e-03\n",
      "   3.47687714e-02 -4.28543948e-02  3.00577097e-02 -7.38262683e-02\n",
      "  -2.46430933e-03 -6.57873973e-02  6.83715660e-03  4.95574437e-02\n",
      "   1.69896204e-02 -2.66014878e-02 -3.04110050e-02 -4.40076031e-02\n",
      "   2.06968673e-02  2.65173614e-02 -4.83850157e-03  6.22198097e-02\n",
      "   2.09112708e-02  7.51806237e-03  7.65347481e-03 -6.45092353e-02\n",
      "  -2.94967853e-02 -4.69030300e-03  7.98608512e-02  3.45267169e-02\n",
      "  -3.58118527e-02 -1.73645206e-02  3.97502519e-02  3.93597260e-02\n",
      "  -2.18946245e-02  3.81866246e-02  4.14573267e-04 -2.54837461e-02\n",
      "   1.24257002e-02 -2.15151533e-02  7.87553657e-03  9.49886721e-03\n",
      "  -3.77712548e-02  1.43628931e-02 -2.88793072e-02 -6.41505793e-03\n",
      "   2.58398391e-02 -1.50216483e-02 -7.80219864e-03  3.74862663e-02\n",
      "  -2.56954785e-02  1.96410082e-02 -7.04105422e-02  3.41388062e-02\n",
      "  -2.37048361e-02 -6.01097234e-02  4.56054024e-02  4.70990241e-02\n",
      "   7.33960513e-03  2.43551889e-03 -4.22780262e-03 -6.25344813e-02\n",
      "   1.98637564e-02  1.88667476e-02 -1.25744734e-02  4.76212129e-02\n",
      "   1.31687904e-02  1.80303231e-02  3.51866893e-02  4.67426376e-03\n",
      "   9.89983045e-03 -4.67472058e-03  3.78164575e-02 -4.13654372e-02\n",
      "   1.54837044e-02 -3.57183553e-02 -1.87389683e-02 -5.42360432e-02\n",
      "  -4.81869443e-04 -3.38028511e-03  1.53852766e-02  6.10571243e-02\n",
      "   1.29198954e-02  2.74139456e-02  7.99017120e-03  2.82476284e-02\n",
      "   6.62672659e-03  2.67988699e-03  2.03095824e-02 -2.79947631e-02\n",
      "  -3.87479961e-02 -4.03103381e-02 -4.19985317e-02  2.14651716e-03\n",
      "  -2.71804817e-02 -1.25092333e-02 -1.81750953e-02  7.14797620e-03\n",
      "   1.10008847e-02  9.15399380e-03 -4.52234484e-02 -4.01256904e-02\n",
      "  -3.27018015e-02  1.56493671e-03  3.12984064e-02  2.99230795e-02\n",
      "   4.30928916e-02 -1.73818097e-02  1.52474446e-02 -5.55488616e-02\n",
      "  -4.36904430e-02 -5.87061383e-02  5.94778433e-02  1.12570375e-02\n",
      "  -1.68438330e-02 -4.10096049e-02 -3.87566760e-02  1.18346512e-02\n",
      "  -7.11284131e-02  2.30449345e-02 -5.14640771e-02 -7.26331677e-03\n",
      "  -1.02100307e-02  2.94320788e-02  5.98635152e-02 -2.69531347e-02\n",
      "   1.35705911e-03  8.31005424e-02  5.77957463e-03  4.93200356e-03\n",
      "   8.32294393e-03 -6.89222477e-03 -3.84016372e-02 -3.98909561e-02\n",
      "  -3.34528983e-02  4.17751782e-02  3.72604243e-02 -3.10397521e-02\n",
      "   2.64068581e-02 -8.27760622e-03  5.22846058e-02  3.46414419e-03\n",
      "  -7.19856517e-03  1.36164846e-02 -3.13937962e-02 -5.52005693e-02\n",
      "  -1.96755119e-02 -1.84366703e-02  8.91062990e-03 -4.00865562e-02\n",
      "  -6.73341053e-03 -3.93483341e-02 -5.04188165e-02 -2.72722822e-02\n",
      "  -7.80773461e-02  6.20336756e-02 -6.26376690e-03  1.68130640e-02\n",
      "  -4.37840335e-02 -3.64112407e-02 -3.31512019e-02 -3.29559110e-03\n",
      "  -6.49167225e-02  2.39508450e-02  2.91912146e-02 -4.07071561e-02\n",
      "  -4.39553410e-02  5.13483398e-02  8.49347468e-03  4.92306147e-03\n",
      "   1.24804284e-02 -3.66036803e-03 -4.45956290e-02 -4.35801595e-03\n",
      "  -1.40472148e-02  5.21462783e-02 -1.77273229e-02 -1.91657953e-02\n",
      "  -4.83054854e-02 -4.53295633e-02  7.02910870e-02 -1.23836659e-02\n",
      "  -8.75009515e-04 -2.37035565e-02 -4.93428716e-03  3.86989862e-02\n",
      "   2.13148296e-02 -3.50383669e-02  5.47769666e-02 -3.02624106e-02\n",
      "   2.19267011e-02  3.90497968e-02  1.85257159e-02  2.11032834e-02\n",
      "   5.76450005e-02 -2.80060479e-03 -4.65295352e-02 -5.52096330e-02\n",
      "  -1.13704475e-03  8.69977567e-03  3.22019048e-02  5.50441965e-02\n",
      "  -3.06220409e-02 -7.32837478e-03 -1.25357113e-03 -4.28364947e-02\n",
      "  -7.36737158e-03  1.27492473e-02 -9.31484718e-03  4.54905853e-02\n",
      "   1.46640399e-02 -9.25730634e-03 -1.37165645e-02 -3.88655365e-02\n",
      "   1.31358458e-02  9.56489332e-03 -8.73473883e-02  5.76604856e-03\n",
      "   2.50908509e-02  8.67257733e-03  3.91603634e-02  9.15229972e-03\n",
      "  -1.40922433e-02 -6.14064001e-02  2.83736680e-02  2.47342736e-02\n",
      "   5.10072112e-02 -3.18132043e-02 -3.09579708e-02  2.92596198e-03\n",
      "  -4.73626107e-02 -2.29710788e-02  3.04292906e-02  8.44687000e-02\n",
      "  -6.44292086e-02  5.62812015e-02  1.07138818e-02  3.39516886e-02\n",
      "   2.31666304e-02  1.63602643e-02 -3.40227820e-02 -1.67480092e-02\n",
      "  -6.63667172e-02  6.62427209e-03 -3.87449525e-02  1.64660774e-02\n",
      "   5.05447760e-02  1.90122407e-02 -2.81815436e-02 -3.56872194e-02\n",
      "  -2.81143580e-02  2.51389183e-02  1.91982239e-02 -1.76361743e-02\n",
      "   1.82599518e-02  2.98086251e-03 -1.00078620e-01  6.33727163e-02\n",
      "  -4.74031456e-02 -4.37775031e-02  1.40901394e-02 -3.22856419e-02\n",
      "  -1.05148703e-02  4.09309752e-02 -4.06675749e-02 -7.01696333e-03\n",
      "  -5.71183525e-02 -6.18743375e-02 -6.65363809e-03  2.70374827e-02\n",
      "  -4.47163358e-02  2.69211382e-02  3.22845764e-02 -9.11030844e-02\n",
      "  -5.57878288e-03  1.10480115e-01 -2.63475738e-02  7.79606635e-03\n",
      "  -1.81252472e-02  2.32517663e-02  1.34274047e-02  6.04664348e-02\n",
      "   1.53025761e-02  1.22925977e-03 -1.70585662e-02 -5.80534041e-02\n",
      "  -1.24559524e-02 -1.00066271e-02  1.01664178e-02  3.60434949e-02\n",
      "  -2.85841338e-02 -5.53708598e-02 -5.98750785e-02 -1.69182792e-02\n",
      "  -2.66627688e-02 -3.16564813e-02  2.76649054e-02  3.49664502e-02\n",
      "  -5.54584078e-02 -5.87533303e-02  1.03361104e-02  6.99846968e-02\n",
      "  -2.10592337e-02  3.00144237e-02 -1.04848240e-02 -1.92150827e-02\n",
      "   4.80470210e-02  1.84325092e-02  2.13401038e-02 -6.81490749e-02\n",
      "   1.64368656e-02  6.07533269e-02 -9.31360424e-02 -4.33044098e-02\n",
      "   2.78352872e-02  5.27175702e-03  6.85844645e-02 -5.62365465e-02\n",
      "   1.47314193e-02 -3.33122886e-03  7.92861059e-02  1.20152151e-02\n",
      "   4.65852059e-02  2.85002049e-02 -3.55312340e-02 -2.43796576e-02\n",
      "  -3.98663767e-02  2.88994750e-03 -9.12598707e-03  9.96670499e-03\n",
      "  -4.87258844e-02 -4.06950973e-02  4.09986712e-02  8.45281854e-02\n",
      "   2.25903187e-02 -3.20074670e-02 -1.75088458e-02  4.09804247e-02\n",
      "   4.74485569e-03 -2.46168878e-02  2.59352010e-02 -3.09871305e-02\n",
      "  -2.17179861e-03 -9.37028206e-04  8.74689370e-02  3.38542252e-03\n",
      "  -1.81287120e-03  2.44137198e-02 -1.67785883e-02 -2.47268677e-02\n",
      "   2.51244474e-02  2.49567050e-02  7.79339205e-03  6.30576760e-02\n",
      "  -7.62030808e-03  1.62646659e-02  1.05524838e-01  1.79427266e-02\n",
      "   5.82987107e-02 -4.36346307e-02  2.95903719e-05  4.99625839e-02\n",
      "  -6.95751607e-02 -3.35326940e-02  3.22130024e-02  1.99916866e-02\n",
      "   3.62940654e-02  2.79153530e-02  2.69283950e-02  3.14423628e-02\n",
      "  -2.29352731e-02  3.49294692e-02  4.37657386e-02  1.16128931e-02\n",
      "  -4.82723815e-04  2.14141142e-02 -1.07911313e-02 -1.60726383e-02\n",
      "   5.28037399e-02 -4.40669470e-02 -3.63887893e-03  1.09616332e-01]]\n"
     ]
    }
   ],
   "source": [
    "from InstructorEmbedding import INSTRUCTOR\n",
    "model = INSTRUCTOR('hkunlp/instructor-xl')\n",
    "sentence = \"3D ActionSLAM: wearable person tracking in multi-floor environments\"\n",
    "instruction = \"Represent the Science title:\"\n",
    "embeddings = model.encode([[instruction,sentence]])\n",
    "print(embeddings)"
   ]
  },
  {
   "cell_type": "code",
   "execution_count": 79,
   "metadata": {},
   "outputs": [],
   "source": [
    "sentence = resume_cleaned\n",
    "instruction = \"extract skills and experience from the resume\"\n",
    "resume_embeddings = model.encode([[instruction,sentence]])\n"
   ]
  },
  {
   "cell_type": "code",
   "execution_count": 80,
   "metadata": {},
   "outputs": [],
   "source": [
    "sentence = description_cleaned\n",
    "instruction = \"extract requirements and candidate skills\"\n",
    "description_embeddings = model.encode([[instruction,sentence]])\n"
   ]
  },
  {
   "cell_type": "code",
   "execution_count": 81,
   "metadata": {},
   "outputs": [
    {
     "name": "stdout",
     "output_type": "stream",
     "text": [
      "[[0.7786656]]\n"
     ]
    }
   ],
   "source": [
    "similarity_score = cosine_similarity(resume_embeddings, description_embeddings)\n",
    "print(similarity_score)"
   ]
  },
  {
   "cell_type": "code",
   "execution_count": null,
   "metadata": {},
   "outputs": [],
   "source": []
  }
 ],
 "metadata": {
  "kernelspec": {
   "display_name": "cuda_torch",
   "language": "python",
   "name": "python3"
  },
  "language_info": {
   "codemirror_mode": {
    "name": "ipython",
    "version": 3
   },
   "file_extension": ".py",
   "mimetype": "text/x-python",
   "name": "python",
   "nbconvert_exporter": "python",
   "pygments_lexer": "ipython3",
   "version": "3.11.3"
  }
 },
 "nbformat": 4,
 "nbformat_minor": 2
}
