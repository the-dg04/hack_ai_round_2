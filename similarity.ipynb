{
 "cells": [
  {
   "cell_type": "code",
   "execution_count": 1,
   "metadata": {},
   "outputs": [],
   "source": [
    "import pandas as pd \n",
    "import numpy as np"
   ]
  },
  {
   "cell_type": "code",
   "execution_count": 2,
   "metadata": {},
   "outputs": [],
   "source": [
    "from PyPDF2 import PdfReader"
   ]
  },
  {
   "cell_type": "markdown",
   "metadata": {},
   "source": [
    "Importing the resume text"
   ]
  },
  {
   "cell_type": "code",
   "execution_count": 3,
   "metadata": {},
   "outputs": [],
   "source": [
    "resume_file=\"Anmol_gupta_iitk_bt_mse.2d5042bb2dc25c3635e5.pdf\"\n",
    "Req=\"data scientist\""
   ]
  },
  {
   "cell_type": "code",
   "execution_count": 4,
   "metadata": {},
   "outputs": [
    {
     "name": "stdout",
     "output_type": "stream",
     "text": [
      "Anmol Gupta\n",
      "4th Year Undergraduate agupta20@iitk.ac.in |/ne+91-8982511209\n",
      "Department of Material Science and Engineering /gtbAnmolGupta |/♀nednanmolgupta\n",
      "Academic Qualifications\n",
      "Year Degree/Certificate Institute CPI/ %\n",
      "2020 - Present B.Tech Indian Institute of Technology Kanpur 7.9/10\n",
      "2020 Class XII (CBSE) Shanskar Public School, Gwalior 90.4%\n",
      "2018 Class X (CBSE) Christ jyoti School, Lavkush nagar 90.8%\n",
      "Scholastic Achievement\n",
      "•Secured 9317 rank in Jee Advanced 2020\n",
      "•Awarded the MCM scholarship amongst a batch of 1150+ students for the academic year 2021-22 as well as for 2022-23\n",
      "Work Experience / Key Projects\n",
      "Microsoft Engage |Facial Recognition Attendance System May’22\n",
      "•Received extensive group mentoring from Microsoft, which helps me in enhancing my efficiency to do effective work\n",
      "•Application takes all the student data including photo and store in the database of MySQL. Attendance is marked automatically\n",
      "•Few games to enjoy -(1)Making the sketch automatically (2)Facial emotion using your face via camera instantaneous\n",
      "Surge Intern |Virtual Reality |Research intern |Mentor: Prof. Arjun Ramakrishnan May’22 - July’22\n",
      "•Making an open-world game in which the user has to take his/her decision to make the reward maximum\n",
      "•UseLSL to collect data from unity and connect unity with VR. Also conducted a survey in college for feedback\n",
      "Is-The-Road-Safe |Summer Project: Programming Club, IIT Kanpur May’22 - July’22\n",
      "•Building an ML model for the detection as well as recognition of multiple objects simultaneously using image or video\n",
      "•Using tensorflow andopen cv libraries and Keras to use prebuild model and improve the accuracy by up to 80%\n",
      "Web Sites |Self Projects: Web Applications using HTML, CSS, JS, React, NodeJS, Express, MongoDB\n",
      "•Todo List :Build using React . It contains all the ’CURD’ operation in the application i.e, you can create, edit, delete any list\n",
      "•Restaurant Application :Build using React . Build an API for it, includes food for sections like breakfast, dinner, evening\n",
      "•Portfolio :It contains some of my other work. Created a tinDog web site. A couple of games using JS like Simon ,Drumkit\n",
      "•Uploader Web App :Build using python andflask framework. User uploads any file and only admin can download any file\n",
      "UGP |Analysis and recognition of cancer regions |Mentor: Prof. Tushar Sandhan August’22 - Nov’22\n",
      "•Deal with HAM10000 datasets for various type of cancer detection and recognition.Use TensorFlow and Pytorch in the project\n",
      "Game Project |Game development society Project, IIT Kanpur April’21 - April’22\n",
      "•John Lemon: A horror game built in Unity with high graphics revolution consists of a dull house with dull lighting and ghosts\n",
      "•Ultimate Racer: A racing game in which users can race on the race track(realistic racing track build in unity)\n",
      "Social Work\n",
      "Student Mentor |Association for Computing Activities(ACA) Project - Full stack web development May’22 - Present\n",
      "•Mentored 40+ students in learning Git, basic UI designing, and making API calls using HTML, CSS, and JS\n",
      "•Took weekly online sessions to help clear doubts and 30+ students created their first personal webpage under our guidance\n",
      "Technical Skills\n",
      "•Programming Languages/Libraries −C, C++, DBMS, HTML, CSS, OOPs, TensorFlow, Numpy, Pandas, Matplotlib\n",
      "•Tools/Utilities −Git, Octave/MATLAB, Adobe photo/video Software, Unity, Blender, origin, mc12, AutoCAD\n",
      "Positions of Responsibility\n",
      "Secretary |Game Development Society, IIT Kanpur August’21 - May’22\n",
      "Leadership •Took interviews for juniors and gain experience in organizing workshops and events related to game development\n",
      "Initiative •Under game development projects, I worked as a programmer andartist during the whole journey\n",
      "Managerial •Work on many projects under the coordinator of the society in teams as well as individual\n",
      "Senior Executive Design |Techkriti’22 / Antaragni’21 ( Asia’s largest technical and cultural festival) July’21 - May’22\n",
      "Leadership •Handled the campus ambassador program of Techkriti and Antaragni effectively by managing various functions\n",
      "Initiative •Work in the design field in Techkriti for designing posters and videography field in antaragni for video editing\n",
      "Secretary |Film Club, IIT Kanpur July’21 - May’22\n",
      "Leadership •Took interviews for juniors and manage the shoot of the seniors’ farewell video as well as edited the video\n",
      "Initiative •Worked in short films as an actor ,editor , and cinnamate and gain lots of experience in management\n",
      "Managerial •Worked in editing projects under the coordinator of the club in teams and gain knowledge in technical stuff\n",
      "Relevant Coursework\n",
      "MSO201A (Probability and statistics) ESC101(Fundamentals of Computing) MTH102(Linear Algebra and differential eq.)\n",
      "MTH101(Basic Calculus) ESC201A (Introduction to electronics) MSO203B(Partial differential equation)\n",
      "Extra-Curricular Activities\n",
      "Cultural Content creator on /uubYouTube Represent IIT Kanpur in form of videos and photos on social media\n",
      "Sports Enthusiast in Athletic and e-gaming. Part of Athletic as High jumper in Udghosh’22 organized by IIT Kanpur\n",
      "i\n"
     ]
    }
   ],
   "source": [
    "reader = PdfReader(resume_file)\n",
    "page = reader.pages[0]\n",
    "transcript  = page.extract_text()\n",
    "print(transcript)"
   ]
  },
  {
   "cell_type": "code",
   "execution_count": 5,
   "metadata": {},
   "outputs": [],
   "source": [
    "job_descr = \"\"\"We are looking for an Indian Institute of Technology Kanpur Grad with skills in artificial intelligence. We are looking for game development projects and other projects such as To Do lists\"\"\""
   ]
  },
  {
   "cell_type": "markdown",
   "metadata": {},
   "source": [
    "cleaning the resume text"
   ]
  },
  {
   "cell_type": "code",
   "execution_count": 6,
   "metadata": {},
   "outputs": [],
   "source": [
    "description_cleaned=job_descr.replace(\"\\n\",\"\")\n",
    "resume_cleaned=transcript.replace(\"\\n\",\"\")"
   ]
  },
  {
   "cell_type": "markdown",
   "metadata": {},
   "source": [
    "# Approach 1 - Using Count Vectorizer"
   ]
  },
  {
   "cell_type": "code",
   "execution_count": 7,
   "metadata": {},
   "outputs": [],
   "source": [
    "Match_Test=[resume_cleaned,description_cleaned]"
   ]
  },
  {
   "cell_type": "code",
   "execution_count": 8,
   "metadata": {},
   "outputs": [],
   "source": [
    "from sklearn.feature_extraction.text import CountVectorizer\n",
    "cv=CountVectorizer()\n",
    "count_matrix=cv.fit_transform(Match_Test)"
   ]
  },
  {
   "cell_type": "code",
   "execution_count": 20,
   "metadata": {},
   "outputs": [],
   "source": [
    "from sklearn.metrics.pairwise import cosine_similarity"
   ]
  },
  {
   "cell_type": "code",
   "execution_count": 21,
   "metadata": {},
   "outputs": [
    {
     "name": "stdout",
     "output_type": "stream",
     "text": [
      "Match Percentage is :38.2% to Requirement\n"
     ]
    }
   ],
   "source": [
    "MatchPercentage=cosine_similarity(count_matrix)[0][1]*100\n",
    "MatchPercentage=round(MatchPercentage,2)\n",
    "print('Match Percentage is :'+ str(MatchPercentage)+'% to Requirement')"
   ]
  },
  {
   "cell_type": "markdown",
   "metadata": {},
   "source": [
    "# Approach 2 - Using TF-IDF to generate embeddings, then using cosine similarity to generate a score"
   ]
  },
  {
   "cell_type": "code",
   "execution_count": 22,
   "metadata": {},
   "outputs": [],
   "source": [
    "from sklearn.feature_extraction.text import TfidfVectorizer\n",
    "from sklearn.metrics.pairwise import cosine_similarity\n",
    "\n",
    "\n",
    "# Create TF-IDF vectorizer\n",
    "vectorizer = TfidfVectorizer(ngram_range=(3,3))\n",
    "\n",
    "# Fit and transform the documents\n",
    "tfidf_matrix = vectorizer.fit_transform([resume_cleaned, description_cleaned])\n",
    "\n",
    "# Calculate cosine similarity\n",
    "cosine_sim = cosine_similarity(tfidf_matrix, tfidf_matrix)\n"
   ]
  },
  {
   "cell_type": "code",
   "execution_count": 12,
   "metadata": {},
   "outputs": [
    {
     "name": "stdout",
     "output_type": "stream",
     "text": [
      "Similarity Score (BERT): 0.41582170128822327\n"
     ]
    }
   ],
   "source": [
    "from sentence_transformers import SentenceTransformer\n",
    "\n",
    "def text_similarity_bert(text1, text2):\n",
    "    model = SentenceTransformer('paraphrase-MiniLM-L6-v2')\n",
    "    embeddings = model.encode([text1, text2])\n",
    "    similarity_score = cosine_similarity([embeddings[0]], [embeddings[1]])\n",
    "    return similarity_score[0, 0]\n",
    "\n",
    "similarity = text_similarity_bert(resume_cleaned, description_cleaned)\n",
    "print(f\"Similarity Score (BERT): {similarity}\")\n"
   ]
  },
  {
   "cell_type": "markdown",
   "metadata": {},
   "source": [
    "# Approach 3  -  Auto-FAISS to generate a similarity score - did not work as expected"
   ]
  },
  {
   "cell_type": "code",
   "execution_count": 14,
   "metadata": {},
   "outputs": [
    {
     "name": "stdout",
     "output_type": "stream",
     "text": [
      "Similarity Score (FAISS): 1.0\n"
     ]
    }
   ],
   "source": [
    "import faiss\n",
    "import numpy as np\n",
    "from sklearn.feature_extraction.text import TfidfVectorizer\n",
    "from sklearn.preprocessing import normalize\n",
    "\n",
    "def text_similarity_faiss(text1, text2):\n",
    "    # Step 1: Vectorize the texts using TF-IDF\n",
    "    vectorizer = TfidfVectorizer()\n",
    "    vectors = vectorizer.fit_transform([text1, text2]).toarray()\n",
    "\n",
    "    # Step 2: Normalize the vectors\n",
    "    vectors = normalize(vectors, norm='l2')\n",
    "\n",
    "    # Step 3: Initialize FAISS index\n",
    "    index = faiss.IndexFlatL2(vectors.shape[1])\n",
    "    index.add(vectors.astype(np.float32))\n",
    "\n",
    "    # Step 4: Encode and normalize the query vector\n",
    "    query_vector = vectorizer.transform([text1]).toarray()\n",
    "    query_vector = normalize(query_vector, norm='l2').astype(np.float32)\n",
    "\n",
    "    # Step 5: Perform similarity search\n",
    "    _, similarity_indices = index.search(query_vector, k=1)\n",
    "\n",
    "    # Step 6: Get similarity score\n",
    "    similarity_score = 1.0 / (1.0 + similarity_indices[0, 0])\n",
    "\n",
    "    return similarity_score\n",
    "\n",
    "# Example usage\n",
    "text1 = resume_cleaned\n",
    "text2 = \"123\"\n",
    "\n",
    "similarity = text_similarity_faiss(text1, text2)\n",
    "print(f\"Similarity Score (FAISS): {similarity}\")\n"
   ]
  },
  {
   "cell_type": "markdown",
   "metadata": {},
   "source": [
    "# Approach 4 -  Using InstructXL retriever model to generate embeddings and using cosine similarity"
   ]
  },
  {
   "cell_type": "markdown",
   "metadata": {},
   "source": [
    "Our best approach yet - generates the most accurate scores but has high inference time on our limited performance machines"
   ]
  },
  {
   "cell_type": "code",
   "execution_count": null,
   "metadata": {},
   "outputs": [],
   "source": [
    "from InstructorEmbedding import INSTRUCTOR\n",
    "model = INSTRUCTOR('hkunlp/instructor-xl')\n",
    "sentence = \"3D ActionSLAM: wearable person tracking in multi-floor environments\"\n",
    "instruction = \"Represent the Science title:\"\n",
    "embeddings = model.encode([[instruction,sentence]])"
   ]
  },
  {
   "cell_type": "code",
   "execution_count": 16,
   "metadata": {},
   "outputs": [],
   "source": [
    "sentence = resume_cleaned\n",
    "instruction = \"extract skills and experience from the resume\"\n",
    "resume_embeddings = model.encode([[instruction,sentence]])\n"
   ]
  },
  {
   "cell_type": "code",
   "execution_count": 17,
   "metadata": {},
   "outputs": [],
   "source": [
    "sentence = description_cleaned\n",
    "instruction = \"extract requirements and candidate skills\"\n",
    "description_embeddings = model.encode([[instruction,sentence]])\n"
   ]
  },
  {
   "cell_type": "code",
   "execution_count": 18,
   "metadata": {},
   "outputs": [
    {
     "name": "stdout",
     "output_type": "stream",
     "text": [
      "67.62865781784058\n"
     ]
    }
   ],
   "source": [
    "similarity_score = cosine_similarity(resume_embeddings, description_embeddings)\n",
    "print(((similarity_score[0][0]*100) - 50)/(50) * 100)"
   ]
  },
  {
   "cell_type": "code",
   "execution_count": 19,
   "metadata": {},
   "outputs": [
    {
     "data": {
      "text/plain": [
       "array([[0.8381433]], dtype=float32)"
      ]
     },
     "execution_count": 19,
     "metadata": {},
     "output_type": "execute_result"
    }
   ],
   "source": [
    "similarity_score"
   ]
  }
 ],
 "metadata": {
  "kernelspec": {
   "display_name": "cuda_torch",
   "language": "python",
   "name": "python3"
  },
  "language_info": {
   "codemirror_mode": {
    "name": "ipython",
    "version": 3
   },
   "file_extension": ".py",
   "mimetype": "text/x-python",
   "name": "python",
   "nbconvert_exporter": "python",
   "pygments_lexer": "ipython3",
   "version": "3.11.3"
  }
 },
 "nbformat": 4,
 "nbformat_minor": 2
}
